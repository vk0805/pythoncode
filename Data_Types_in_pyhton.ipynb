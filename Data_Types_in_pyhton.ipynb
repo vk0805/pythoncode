{
 "cells": [
  {
   "cell_type": "markdown",
   "metadata": {},
   "source": [
    "# print(\"this is phyton shell\")"
   ]
  },
  {
   "cell_type": "code",
   "execution_count": 2,
   "metadata": {},
   "outputs": [
    {
     "name": "stdout",
     "output_type": "stream",
     "text": [
      "type of x : <class 'int'>\n",
      "value of x : 6\n"
     ]
    }
   ],
   "source": [
    "x=6\n",
    "print(\"type of x :\",type(x))\n",
    "print(\"value of x :\",x)"
   ]
  },
  {
   "cell_type": "markdown",
   "metadata": {},
   "source": [
    "<h1 style='color:red'> Basic Data types in Pyhton</h1>\n",
    "<img src='data.png'>"
   ]
  },
  {
   "cell_type": "markdown",
   "metadata": {},
   "source": [
    "# 1.Numbers\n",
    "2.Strings\n",
    "3.Lists\n",
    "4.Tuples\n",
    "5.Dictionary\n",
    "6.Sets"
   ]
  },
  {
   "cell_type": "code",
   "execution_count": 3,
   "metadata": {},
   "outputs": [
    {
     "name": "stdout",
     "output_type": "stream",
     "text": [
      "Type of x = <class 'int'>\n",
      "Type of y = <class 'float'>\n"
     ]
    }
   ],
   "source": [
    "#Numbers\n",
    "#Integers\n",
    "x=5 #the x is a container which will contain a integer number 5\n",
    "#Let's print type of x \n",
    "print(\"Type of x =\",type(x))\n",
    "#floats\n",
    "y=6.25 #now y will be a float type container which holds value 6.25\n",
    "#Lets print type of y\n",
    "print(\"Type of y =\",type(y))\n"
   ]
  },
  {
   "cell_type": "code",
   "execution_count": 5,
   "metadata": {},
   "outputs": [
    {
     "name": "stdout",
     "output_type": "stream",
     "text": [
      "<class 'str'>\n",
      "hi i am string\n",
      "Hi i am also string\n",
      "Hi i am a paragraph\n",
      "                           you see multiple line\n",
      "so you can write your paragraph\n",
      "as you wish in python \n",
      "                        by python strings\n",
      "\n"
     ]
    }
   ],
   "source": [
    "#strings -> string is a group of characters\n",
    "#by default python supports utf-8 character set\n",
    "s='hi i am string'#string can be define in a single quotes\n",
    "s1=\"Hi i am also string\" #or it can be in double quotes\n",
    "s3=\"\"\"Hi i am a paragraph\n",
    "                           you see multiple line\n",
    "so you can write your paragraph\n",
    "as you wish in python \n",
    "                        by python strings\n",
    "\"\"\"\n",
    "print(type(s))\n",
    "print(s)\n",
    "print(s1)\n",
    "print(s3)"
   ]
  },
  {
   "cell_type": "code",
   "execution_count": 3,
   "metadata": {},
   "outputs": [
    {
     "name": "stdout",
     "output_type": "stream",
     "text": [
      "w\n"
     ]
    }
   ],
   "source": [
    "s=\"Hello world\"\n",
    "one_char = s[6]\n",
    "print(one_char)\n"
   ]
  },
  {
   "cell_type": "code",
   "execution_count": 4,
   "metadata": {},
   "outputs": [
    {
     "name": "stdout",
     "output_type": "stream",
     "text": [
      "world\n",
      "worl\n"
     ]
    }
   ],
   "source": [
    "#slicing s[start:end:step]\n",
    "s=\"Hello world\"\n",
    "c=s[6:11]\n",
    "x = s[-5:-1]\n",
    "print(c)\n",
    "print(x)\n"
   ]
  },
  {
   "cell_type": "code",
   "execution_count": 6,
   "metadata": {},
   "outputs": [
    {
     "name": "stdout",
     "output_type": "stream",
     "text": [
      "h  msrn\n"
     ]
    }
   ],
   "source": [
    "p=s[::2]\n",
    "print(p)\n",
    "\n"
   ]
  },
  {
   "cell_type": "code",
   "execution_count": 1,
   "metadata": {},
   "outputs": [
    {
     "name": "stdout",
     "output_type": "stream",
     "text": [
      "The Zen of Python, by Tim Peters\n",
      "\n",
      "Beautiful is better than ugly.\n",
      "Explicit is better than implicit.\n",
      "Simple is better than complex.\n",
      "Complex is better than complicated.\n",
      "Flat is better than nested.\n",
      "Sparse is better than dense.\n",
      "Readability counts.\n",
      "Special cases aren't special enough to break the rules.\n",
      "Although practicality beats purity.\n",
      "Errors should never pass silently.\n",
      "Unless explicitly silenced.\n",
      "In the face of ambiguity, refuse the temptation to guess.\n",
      "There should be one-- and preferably only one --obvious way to do it.\n",
      "Although that way may not be obvious at first unless you're Dutch.\n",
      "Now is better than never.\n",
      "Although never is often better than *right* now.\n",
      "If the implementation is hard to explain, it's a bad idea.\n",
      "If the implementation is easy to explain, it may be a good idea.\n",
      "Namespaces are one honking great idea -- let's do more of those!\n"
     ]
    }
   ],
   "source": [
    "import this"
   ]
  },
  {
   "cell_type": "code",
   "execution_count": 2,
   "metadata": {},
   "outputs": [
    {
     "name": "stdout",
     "output_type": "stream",
     "text": [
      "['__add__', '__class__', '__contains__', '__delattr__', '__dir__', '__doc__', '__eq__', '__format__', '__ge__', '__getattribute__', '__getitem__', '__getnewargs__', '__gt__', '__hash__', '__init__', '__init_subclass__', '__iter__', '__le__', '__len__', '__lt__', '__mod__', '__mul__', '__ne__', '__new__', '__reduce__', '__reduce_ex__', '__repr__', '__rmod__', '__rmul__', '__setattr__', '__sizeof__', '__str__', '__subclasshook__', 'capitalize', 'casefold', 'center', 'count', 'encode', 'endswith', 'expandtabs', 'find', 'format', 'format_map', 'index', 'isalnum', 'isalpha', 'isdecimal', 'isdigit', 'isidentifier', 'islower', 'isnumeric', 'isprintable', 'isspace', 'istitle', 'isupper', 'join', 'ljust', 'lower', 'lstrip', 'maketrans', 'partition', 'replace', 'rfind', 'rindex', 'rjust', 'rpartition', 'rsplit', 'rstrip', 'split', 'splitlines', 'startswith', 'strip', 'swapcase', 'title', 'translate', 'upper', 'zfill']\n"
     ]
    }
   ],
   "source": [
    "s = \"Hello World\"\n",
    "print(dir(s))\n",
    "\n"
   ]
  },
  {
   "cell_type": "code",
   "execution_count": 10,
   "metadata": {},
   "outputs": [
    {
     "name": "stdout",
     "output_type": "stream",
     "text": [
      "S.center(width[, fillchar]) -> str\n",
      "\n",
      "Return S centered in a string of length width. Padding is\n",
      "done using the specified fill character (default is a space)\n"
     ]
    }
   ],
   "source": [
    "# . is known as access specifer\n",
    "x = s.center.__doc__\n",
    "print (x)"
   ]
  },
  {
   "cell_type": "code",
   "execution_count": 18,
   "metadata": {},
   "outputs": [
    {
     "name": "stdout",
     "output_type": "stream",
     "text": [
      "---------------------------------------------------------------------------------------------------------------------------------------------------------------------------------------------------------------------------------------------------------------------------------abcd---------------------------------------------------------------------------------------------------------------------------------------------------------------------------------------------------------------------------------------------------------------------------------\n"
     ]
    }
   ],
   "source": [
    " y = s.center(550,'-')\n",
    "print (y)\n"
   ]
  },
  {
   "cell_type": "code",
   "execution_count": 13,
   "metadata": {},
   "outputs": [
    {
     "name": "stdout",
     "output_type": "stream",
     "text": [
      "s.upper() =  HELLO WORLD!\n",
      "S.lower()=  hello world!\n",
      "s.swapcase()=  HELLO WORLD!\n"
     ]
    }
   ],
   "source": [
    "s = \"hello world!\"\n",
    "u = s.upper()\n",
    "l= s.lower()\n",
    "k= s.swapcase()\n",
    "print(\"s.upper() = \",u)\n",
    "print(\"S.lower()= \",l)\n",
    "print(\"s.swapcase()= \",k)"
   ]
  },
  {
   "cell_type": "code",
   "execution_count": 16,
   "metadata": {},
   "outputs": [
    {
     "name": "stdout",
     "output_type": "stream",
     "text": [
      "['Hello', 'World', 'Welcome', 'to', 'Python']\n",
      "('Hello ', 'World', ' Welcome to Python')\n"
     ]
    }
   ],
   "source": [
    "s = \"Hello World Welcome to Python\"\n",
    "x= s.split() #by default spilt string from spaces\n",
    "y= s.partition('World') #Will partition string from world\n",
    "print(x)\n",
    "print(y)"
   ]
  },
  {
   "cell_type": "code",
   "execution_count": 17,
   "metadata": {},
   "outputs": [
    {
     "name": "stdout",
     "output_type": "stream",
     "text": [
      "a^--^b^--^c^--^d\n"
     ]
    }
   ],
   "source": [
    "s = \"abcd\"\n",
    "k = '^--^'.join(s)\n",
    "print(k)"
   ]
  },
  {
   "cell_type": "markdown",
   "metadata": {},
   "source": [
    "# List Data Types in Python\n",
    "\n",
    "list is a collection of homogenous or hetrogenous data elements .\n",
    "All arrays are list but all list are not arrays."
   ]
  },
  {
   "cell_type": "code",
   "execution_count": 19,
   "metadata": {},
   "outputs": [
    {
     "name": "stdout",
     "output_type": "stream",
     "text": [
      "[25, 34, 55, 555, 5658, 45452, 784543]\n",
      "['Hello', 'World', 'Welcome', 'to', 'the', 'Python', 'list']\n"
     ]
    }
   ],
   "source": [
    "mylist =[25,34,55,555,5658,45452,784543]\n",
    "mylist1 =[\"Hello\",\"World\",\"Welcome\",\"to\",\"the\",\"Python\",\"list\"]\n",
    "print(mylist)\n",
    "print(mylist1)"
   ]
  },
  {
   "cell_type": "code",
   "execution_count": 24,
   "metadata": {},
   "outputs": [
    {
     "name": "stdout",
     "output_type": "stream",
     "text": [
      "5\n"
     ]
    }
   ],
   "source": [
    "d2 = [\n",
    "    [1,2,3],\n",
    "    [4,5,6],\n",
    "    [7,8,9]\n",
    "     ]\n",
    "print (d2[1][1]) "
   ]
  },
  {
   "cell_type": "code",
   "execution_count": 25,
   "metadata": {},
   "outputs": [
    {
     "name": "stdout",
     "output_type": "stream",
     "text": [
      "['__add__', '__class__', '__contains__', '__delattr__', '__dir__', '__doc__', '__eq__', '__format__', '__ge__', '__getattribute__', '__getitem__', '__getnewargs__', '__gt__', '__hash__', '__init__', '__init_subclass__', '__iter__', '__le__', '__len__', '__lt__', '__mod__', '__mul__', '__ne__', '__new__', '__reduce__', '__reduce_ex__', '__repr__', '__rmod__', '__rmul__', '__setattr__', '__sizeof__', '__str__', '__subclasshook__', 'capitalize', 'casefold', 'center', 'count', 'encode', 'endswith', 'expandtabs', 'find', 'format', 'format_map', 'index', 'isalnum', 'isalpha', 'isdecimal', 'isdigit', 'isidentifier', 'islower', 'isnumeric', 'isprintable', 'isspace', 'istitle', 'isupper', 'join', 'ljust', 'lower', 'lstrip', 'maketrans', 'partition', 'replace', 'rfind', 'rindex', 'rjust', 'rpartition', 'rsplit', 'rstrip', 'split', 'splitlines', 'startswith', 'strip', 'swapcase', 'title', 'translate', 'upper', 'zfill']\n"
     ]
    }
   ],
   "source": [
    "print(dir(l)) "
   ]
  },
  {
   "cell_type": "markdown",
   "metadata": {},
   "source": [
    "# Built -in-functions to add items in list \n"
   ]
  },
  {
   "cell_type": "code",
   "execution_count": 26,
   "metadata": {},
   "outputs": [
    {
     "name": "stdout",
     "output_type": "stream",
     "text": [
      "['python', 1, 5, 3, 'bye', 324, 21, 3.14, 'hello', 'hi']\n"
     ]
    }
   ],
   "source": [
    "#mylist.insert(index,item)\n",
    "mylist = [1,5,3,324,21,'hello','hi']\n",
    "mylist.insert(3,'bye') \n",
    "mylist.insert(0,'python')\n",
    "mylist.insert(-2,3.14)\n",
    "print(mylist)"
   ]
  },
  {
   "cell_type": "code",
   "execution_count": 27,
   "metadata": {},
   "outputs": [
    {
     "name": "stdout",
     "output_type": "stream",
     "text": [
      "[1, 2, 3, 4, 5, 6]\n"
     ]
    }
   ],
   "source": [
    "k = [1,2,3]\n",
    "p = [4,5,6]\n",
    "k.extend(p)\n",
    "print(k)"
   ]
  },
  {
   "cell_type": "markdown",
   "metadata": {},
   "source": [
    "# Built in List Function to remove a item for list mylist\n",
    "1. mylist.pop() -> will las element from list (opposite of append ) and return deleted item \n",
    "2. mylist.pop(index) -> will delete item from mylist which position at index no index \n",
    "3. mylist.remove(item) -> will search occurence of item and delete first occurence of item only\n",
    "\n",
    "other function of list ->>>>>>>>>>> sort,reverse,index,clear\n"
   ]
  },
  {
   "cell_type": "markdown",
   "metadata": {},
   "source": [
    "# Tuple is immutable data type"
   ]
  },
  {
   "cell_type": "code",
   "execution_count": 28,
   "metadata": {},
   "outputs": [
    {
     "name": "stdout",
     "output_type": "stream",
     "text": [
      "<class 'tuple'>\n",
      "['__add__', '__class__', '__contains__', '__delattr__', '__dir__', '__doc__', '__eq__', '__format__', '__ge__', '__getattribute__', '__getitem__', '__getnewargs__', '__gt__', '__hash__', '__init__', '__init_subclass__', '__iter__', '__le__', '__len__', '__lt__', '__mul__', '__ne__', '__new__', '__reduce__', '__reduce_ex__', '__repr__', '__rmul__', '__setattr__', '__sizeof__', '__str__', '__subclasshook__', 'count', 'index']\n"
     ]
    }
   ],
   "source": [
    "k= (1,2,3,'hello','hi')\n",
    "print(type(k))\n",
    "print(dir(k))"
   ]
  },
  {
   "cell_type": "markdown",
   "metadata": {},
   "source": [
    "# Dictonary "
   ]
  },
  {
   "cell_type": "code",
   "execution_count": 37,
   "metadata": {},
   "outputs": [
    {
     "name": "stdout",
     "output_type": "stream",
     "text": [
      "<class 'dict'>\n",
      "{'key': 'value', 'name': 'python', 'year': 1991}\n",
      "['__class__', '__contains__', '__delattr__', '__delitem__', '__dir__', '__doc__', '__eq__', '__format__', '__ge__', '__getattribute__', '__getitem__', '__gt__', '__hash__', '__init__', '__init_subclass__', '__iter__', '__le__', '__len__', '__lt__', '__ne__', '__new__', '__reduce__', '__reduce_ex__', '__repr__', '__setattr__', '__setitem__', '__sizeof__', '__str__', '__subclasshook__', 'clear', 'copy', 'fromkeys', 'get', 'items', 'keys', 'pop', 'popitem', 'setdefault', 'update', 'values']\n"
     ]
    }
   ],
   "source": [
    "mydict ={\n",
    "    'key':'value',\n",
    "    'name':'python',\n",
    "    'year':1991\n",
    "}\n",
    "print(type(mydict))\n",
    "print(mydict)\n",
    "print(dir(mydict))\n"
   ]
  },
  {
   "cell_type": "code",
   "execution_count": 39,
   "metadata": {},
   "outputs": [
    {
     "name": "stdout",
     "output_type": "stream",
     "text": [
      "['__class__', '__contains__', '__delattr__', '__delitem__', '__dir__', '__doc__', '__eq__', '__format__', '__ge__', '__getattribute__', '__getitem__', '__gt__', '__hash__', '__init__', '__init_subclass__', '__iter__', '__le__', '__len__', '__lt__', '__ne__', '__new__', '__reduce__', '__reduce_ex__', '__repr__', '__setattr__', '__setitem__', '__sizeof__', '__str__', '__subclasshook__', 'clear', 'copy', 'fromkeys', 'get', 'items', 'keys', 'pop', 'popitem', 'setdefault', 'update', 'values']\n",
      "{'name': 'hari', 'age': 21, 'country': 'indian'}\n"
     ]
    }
   ],
   "source": [
    "info ={\n",
    "    'name': 'hari',\n",
    "    'age' : 21,\n",
    "    'country' : 'indian'\n",
    "}\n",
    "print(dir(info))\n",
    "print(info)"
   ]
  },
  {
   "cell_type": "markdown",
   "metadata": {
    "collapsed": true
   },
   "source": [
    "# Sets "
   ]
  },
  {
   "cell_type": "code",
   "execution_count": 1,
   "metadata": {},
   "outputs": [
    {
     "name": "stdout",
     "output_type": "stream",
     "text": [
      "<class 'set'>\n",
      "<class 'set'>\n",
      "['__and__', '__class__', '__contains__', '__delattr__', '__dir__', '__doc__', '__eq__', '__format__', '__ge__', '__getattribute__', '__gt__', '__hash__', '__iand__', '__init__', '__init_subclass__', '__ior__', '__isub__', '__iter__', '__ixor__', '__le__', '__len__', '__lt__', '__ne__', '__new__', '__or__', '__rand__', '__reduce__', '__reduce_ex__', '__repr__', '__ror__', '__rsub__', '__rxor__', '__setattr__', '__sizeof__', '__str__', '__sub__', '__subclasshook__', '__xor__', 'add', 'clear', 'copy', 'difference', 'difference_update', 'discard', 'intersection', 'intersection_update', 'isdisjoint', 'issubset', 'issuperset', 'pop', 'remove', 'symmetric_difference', 'symmetric_difference_update', 'union', 'update']\n"
     ]
    }
   ],
   "source": [
    "A = {'Hello',1,5,234,3.14,11,12,13,14}\n",
    "B = {'Bye','hi',2,24}\n",
    "print(type(A))\n",
    "print(type(B))\n",
    "print(dir(A))"
   ]
  },
  {
   "cell_type": "code",
   "execution_count": 2,
   "metadata": {},
   "outputs": [
    {
     "name": "stdout",
     "output_type": "stream",
     "text": [
      "A intersection B =  {11, 12, 13, 14}\n",
      "A union B =  {1, 2, 3.14, 34, 5, 234, 11, 12, 13, 14, 'Bye', 'hi', 'Hello', 24, 56}\n",
      "Difference of A wrt B =  {1, 3.14, 5, 234, 'Hello'}\n"
     ]
    }
   ],
   "source": [
    "A = {'Hello',1,5,234,3.14,11,12,13,14}\n",
    "B = {'Bye','hi',2,24,34,56,11,12,13,14}\n",
    "print(\"A intersection B = \",A.intersection(B))\n",
    "print(\"A union B = \",A.union(B))\n",
    "print(\"Difference of A wrt B = \",A.difference(B))"
   ]
  },
  {
   "cell_type": "code",
   "execution_count": 6,
   "metadata": {},
   "outputs": [
    {
     "name": "stdout",
     "output_type": "stream",
     "text": [
      "Only Hindi Newspaper Readers :  Palak Pooja Shahid\n",
      "Only English news Reader :  Apporva kriti Ashish\n"
     ]
    }
   ],
   "source": [
    "H = {'Keshav','Palak','Pooja','Shahid'}\n",
    "E = {'Apporva','Jayati','kriti','Ashish'}\n",
    "common = {'devansh','vaibhav','Keshav','Jayati'}\n",
    "print(\"Only Hindi Newspaper Readers : \",*H.difference(common))\n",
    "print(\"Only English news Reader : \",*E.difference(common))\n"
   ]
  },
  {
   "cell_type": "markdown",
   "metadata": {},
   "source": [
    "# Type Conversion "
   ]
  },
  {
   "cell_type": "code",
   "execution_count": 7,
   "metadata": {},
   "outputs": [
    {
     "name": "stdout",
     "output_type": "stream",
     "text": [
      "1234\n"
     ]
    }
   ],
   "source": [
    "# 1.integer function\n",
    "# only strings that contain a number can be converted into integer\n",
    "k = '     1234       '\n",
    "x = int(k)\n",
    "print(x)"
   ]
  },
  {
   "cell_type": "code",
   "execution_count": 1,
   "metadata": {},
   "outputs": [
    {
     "name": "stdout",
     "output_type": "stream",
     "text": [
      "2\n",
      "123123123\n"
     ]
    }
   ],
   "source": [
    "print(int(2.5))\n",
    "#print(int(3.0+5.7j)) complex change nhi hoga \n",
    "print(int('       123123123   ')) #decimal number in string can be converted in int\n"
   ]
  },
  {
   "cell_type": "code",
   "execution_count": null,
   "metadata": {
    "collapsed": true
   },
   "outputs": [],
   "source": []
  }
 ],
 "metadata": {
  "kernelspec": {
   "display_name": "Python 3",
   "language": "python",
   "name": "python3"
  },
  "language_info": {
   "codemirror_mode": {
    "name": "ipython",
    "version": 3
   },
   "file_extension": ".py",
   "mimetype": "text/x-python",
   "name": "python",
   "nbconvert_exporter": "python",
   "pygments_lexer": "ipython3",
   "version": "3.6.3"
  }
 },
 "nbformat": 4,
 "nbformat_minor": 2
}
